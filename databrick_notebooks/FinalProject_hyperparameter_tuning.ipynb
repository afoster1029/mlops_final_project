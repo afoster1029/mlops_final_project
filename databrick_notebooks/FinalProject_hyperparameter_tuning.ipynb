{
 "cells": [
  {
   "cell_type": "markdown",
   "metadata": {
    "application/vnd.databricks.v1+cell": {
     "cellMetadata": {
      "byteLimit": 2048000,
      "rowLimit": 10000
     },
     "inputWidgets": {},
     "nuid": "4cf57716-3136-4c28-8fa0-6f13853a225e",
     "showTitle": false,
     "tableResultSettingsMap": {},
     "title": ""
    }
   },
   "source": [
    "### Hyperparameter Tuning"
   ]
  },
  {
   "cell_type": "code",
   "execution_count": 0,
   "metadata": {
    "application/vnd.databricks.v1+cell": {
     "cellMetadata": {
      "byteLimit": 2048000,
      "rowLimit": 10000
     },
     "inputWidgets": {},
     "nuid": "aa8632b4-be3c-4da5-8742-7584b2928436",
     "showTitle": false,
     "tableResultSettingsMap": {},
     "title": ""
    }
   },
   "outputs": [],
   "source": [
    "import pandas as pd\n",
    "\n",
    "# load objects saved in prior notebook\n",
    "X_train = pd.read_parquet('/dbfs/tmp/X_train.parquet')\n",
    "X_val = pd.read_parquet('/dbfs/tmp/X_val.parquet')\n",
    "X_test = pd.read_parquet('/dbfs/tmp/X_test.parquet')\n",
    "y_train = pd.read_parquet('/dbfs/tmp/y_train.parquet')\n",
    "y_val = pd.read_parquet('/dbfs/tmp/y_val.parquet')\n",
    "y_test = pd.read_parquet('/dbfs/tmp/y_test.parquet')\n"
   ]
  },
  {
   "cell_type": "code",
   "execution_count": 0,
   "metadata": {
    "application/vnd.databricks.v1+cell": {
     "cellMetadata": {
      "byteLimit": 2048000,
      "rowLimit": 10000
     },
     "inputWidgets": {},
     "nuid": "9c902b22-ab90-461c-b258-544676e0525a",
     "showTitle": false,
     "tableResultSettingsMap": {},
     "title": ""
    }
   },
   "outputs": [],
   "source": [
    "import xgboost as xgb\n",
    "from hyperopt import fmin, tpe, hp, STATUS_OK, Trials\n",
    "from hyperopt.pyll.base import scope\n",
    "from sklearn.metrics import root_mean_squared_error\n",
    "import mlflow\n",
    "import mlflow.xgboost\n",
    "from mlflow.tracking import MlflowClient"
   ]
  },
  {
   "cell_type": "code",
   "execution_count": 0,
   "metadata": {
    "application/vnd.databricks.v1+cell": {
     "cellMetadata": {
      "byteLimit": 2048000,
      "rowLimit": 10000
     },
     "inputWidgets": {},
     "nuid": "052b67d0-9a46-4ca3-a2a9-621af712e95e",
     "showTitle": false,
     "tableResultSettingsMap": {},
     "title": ""
    }
   },
   "outputs": [],
   "source": [
    "# define search space for hyperparameters\n",
    "search_space = {\n",
    "    'n_estimators': scope.int(hp.quniform('n_estimators', 50, 500, 1)),\n",
    "    'learning_rate': hp.loguniform('learning_rate', -3, 0),\n",
    "    'max_depth': scope.int(hp.quniform('max_depth', 3, 10, 1)),\n",
    "    'subsample': hp.uniform('subsample', 0.5, 1.0),\n",
    "    'colsample_bytree': hp.uniform('colsample_bytree', 0.5, 1.0),\n",
    "}\n",
    "\n",
    "# define objective function for tuning\n",
    "def objective(params):\n",
    "    model = xgb.XGBRegressor(**params, random_state=42)\n",
    "    model.fit(X_train, y_train, eval_set=[(X_val, y_val)], early_stopping_rounds=10, verbose=False)\n",
    "    y_pred = model.predict(X_val)\n",
    "    rmse = root_mean_squared_error(y_val, y_pred)\n",
    "    return {'loss': rmse,'status': STATUS_OK}\n",
    "\n",
    "# initialize MLflow\n",
    "mlflow.set_experiment('/Users/matspencer@uchicago.edu/Housing_HPT')\n",
    "\n",
    "# run hyperparemeter tuning\n",
    "with mlflow.start_run(run_name='xgb_hyperopt'):\n",
    "    best_params = fmin(\n",
    "        fn=objective,\n",
    "        space=search_space,\n",
    "        algo=tpe.suggest,\n",
    "        max_evals=50,\n",
    "        trials=Trials()\n",
    "    )\n",
    "\n",
    "print('Best parameters found: ', best_params)"
   ]
  },
  {
   "cell_type": "code",
   "execution_count": 0,
   "metadata": {
    "application/vnd.databricks.v1+cell": {
     "cellMetadata": {
      "byteLimit": 2048000,
      "rowLimit": 10000
     },
     "inputWidgets": {},
     "nuid": "2a369702-4b07-4f77-88de-e582d0d2554d",
     "showTitle": false,
     "tableResultSettingsMap": {},
     "title": ""
    }
   },
   "outputs": [],
   "source": [
    "# save to parquet files so we can access objects in other tasks\n",
    "best_params_df = pd.DataFrame([best_params])\n",
    "best_params_df.to_parquet('/dbfs/tmp/best_params.parquet')"
   ]
  }
 ],
 "metadata": {
  "application/vnd.databricks.v1+notebook": {
   "dashboards": [],
   "environmentMetadata": {
    "base_environment": "",
    "client": "1"
   },
   "language": "python",
   "notebookMetadata": {
    "pythonIndentUnit": 4
   },
   "notebookName": "FinalProject_hyperparameter_tuning",
   "widgets": {}
  },
  "language_info": {
   "name": "python"
  }
 },
 "nbformat": 4,
 "nbformat_minor": 0
}