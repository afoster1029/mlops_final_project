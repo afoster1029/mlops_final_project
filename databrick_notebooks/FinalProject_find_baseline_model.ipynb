{
 "cells": [
  {
   "cell_type": "markdown",
   "metadata": {
    "application/vnd.databricks.v1+cell": {
     "cellMetadata": {},
     "inputWidgets": {},
     "nuid": "53da34e5-4304-49c9-a58a-bb8c2080ae62",
     "showTitle": false,
     "tableResultSettingsMap": {},
     "title": ""
    }
   },
   "source": [
    "### Use AutoML to produce baseline model"
   ]
  },
  {
   "cell_type": "code",
   "execution_count": 0,
   "metadata": {
    "application/vnd.databricks.v1+cell": {
     "cellMetadata": {},
     "inputWidgets": {},
     "nuid": "e2732873-39ae-4ce0-a5e6-31cc23bf492d",
     "showTitle": false,
     "tableResultSettingsMap": {},
     "title": ""
    }
   },
   "outputs": [],
   "source": [
    "import pandas as pd\n",
    "\n",
    "# load the dataset saved in prior notebook\n",
    "df = pd.read_parquet('/dbfs/tmp/housing_data.parquet')"
   ]
  },
  {
   "cell_type": "code",
   "execution_count": 0,
   "metadata": {
    "application/vnd.databricks.v1+cell": {
     "cellMetadata": {},
     "inputWidgets": {},
     "nuid": "1ee92ad1-b2ba-4057-af14-58370f50dee0",
     "showTitle": false,
     "tableResultSettingsMap": {},
     "title": ""
    }
   },
   "outputs": [
    {
     "output_type": "stream",
     "name": "stderr",
     "output_type": "stream",
     "text": [
      "2024/12/03 22:58:45 INFO databricks.automl.client.manager: AutoML will optimize for root mean squared error metric, which is tracked as val_root_mean_squared_error in the MLflow experiment.\n2024/12/03 22:58:46 INFO databricks.automl.client.manager: MLflow Experiment ID: 1005077969890497\n2024/12/03 22:58:46 INFO databricks.automl.client.manager: MLflow Experiment: https://dbc-7e9bba30-86e9.cloud.databricks.com/?o=773215260201204#mlflow/experiments/1005077969890497\n2024/12/03 23:00:09 INFO databricks.automl.client.manager: Data exploration notebook: https://dbc-7e9bba30-86e9.cloud.databricks.com/?o=773215260201204#notebook/1005077969890515\n2024/12/03 23:14:20 INFO databricks.automl.client.manager: AutoML experiment completed successfully.\n"
     ]
    },
    {
     "output_type": "display_data",
     "data": {
      "text/html": [
       "\n",
       "        <style>\n",
       "            .grid-container {\n",
       "              display: grid\n",
       "              grid-template-columns: auto;\n",
       "              padding: 10px;\n",
       "            }\n",
       "            <!-- Picked to be same as in webapp/web/js/templates/iframeSandbox.css -->\n",
       "            .grid-container div {\n",
       "              font-family: Helvetica, Arial, sans-serif;\n",
       "              font-size: 14px;\n",
       "            }\n",
       "        </style>\n",
       "        <div class=\"grid-container\">\n",
       "            \n",
       "            <div><p>For exploratory data analysis, open the <a href=https://dbc-7e9bba30-86e9.cloud.databricks.com/?o=773215260201204#notebook/1005077969890515>data exploration notebook</a></p></div>\n",
       "            <div><p>To view the best performing model, open the <a href=#notebook/1005077969890532>best trial notebook</a></p></div>\n",
       "            <div><p>To view details about all trials, navigate to the <a href=https://dbc-7e9bba30-86e9.cloud.databricks.com/?o=773215260201204#mlflow/experiments/1005077969890497>MLflow experiment</a></p></div>\n",
       "            <div><p><strong>Metrics for the best trial:</strong></p></div>\n",
       "            <div>\n",
       "                <!-- class inlined from webapp/web/js/templates/iframeSandbox.css -->\n",
       "                \n",
       "                    <table class=\"dataframe\">\n",
       "                        <thead>\n",
       "                          <tr>\n",
       "                            <th></th>\n",
       "                            <th>Train</th>\n",
       "                            <th>Validation</th>\n",
       "                            <th>Test</th>\n",
       "                          </tr>\n",
       "                        </thead>\n",
       "                        <tbody>\n",
       "                        \n",
       "                <tr>\n",
       "                    <th> root_mean_squared_error </th>\n",
       "                    <td> 39297.397 </td>\n",
       "                    <td> 49028.734 </td>\n",
       "                    <td> 49308.953 </td>\n",
       "                </tr>\n",
       "                \n",
       "\n",
       "                <tr>\n",
       "                    <th> mean_squared_error </th>\n",
       "                    <td> 1.544285e+09 </td>\n",
       "                    <td> 2.403817e+09 </td>\n",
       "                    <td> 2.431373e+09 </td>\n",
       "                </tr>\n",
       "                \n",
       "\n",
       "                <tr>\n",
       "                    <th> example_count </th>\n",
       "                    <td> 12471.000 </td>\n",
       "                    <td> 4008.000 </td>\n",
       "                    <td> 4161.000 </td>\n",
       "                </tr>\n",
       "                \n",
       "\n",
       "                <tr>\n",
       "                    <th> r2_score </th>\n",
       "                    <td> 0.884 </td>\n",
       "                    <td> 0.819 </td>\n",
       "                    <td> 0.818 </td>\n",
       "                </tr>\n",
       "                \n",
       "\n",
       "                <tr>\n",
       "                    <th> sum_on_target </th>\n",
       "                    <td> 2.572507e+09 </td>\n",
       "                    <td> 8.354019e+08 </td>\n",
       "                    <td> 8.615947e+08 </td>\n",
       "                </tr>\n",
       "                \n",
       "\n",
       "                <tr>\n",
       "                    <th> score </th>\n",
       "                    <td> 0.884 </td>\n",
       "                    <td> 0.819 </td>\n",
       "                    <td> 0.818 </td>\n",
       "                </tr>\n",
       "                \n",
       "\n",
       "                <tr>\n",
       "                    <th> mean_absolute_error </th>\n",
       "                    <td> 26410.323 </td>\n",
       "                    <td> 32481.416 </td>\n",
       "                    <td> 32710.954 </td>\n",
       "                </tr>\n",
       "                \n",
       "\n",
       "                <tr>\n",
       "                    <th> mean_on_target </th>\n",
       "                    <td> 206279.165 </td>\n",
       "                    <td> 208433.607 </td>\n",
       "                    <td> 207064.335 </td>\n",
       "                </tr>\n",
       "                \n",
       "\n",
       "                <tr>\n",
       "                    <th> max_error </th>\n",
       "                    <td> 358163.328 </td>\n",
       "                    <td> 402847.172 </td>\n",
       "                    <td> 377160.820 </td>\n",
       "                </tr>\n",
       "                \n",
       "\n",
       "                <tr>\n",
       "                    <th> mean_absolute_percentage_error </th>\n",
       "                    <td> 0.149 </td>\n",
       "                    <td> 0.177 </td>\n",
       "                    <td> 0.183 </td>\n",
       "                </tr>\n",
       "                \n",
       "                        </tbody>\n",
       "                    </table>\n",
       "            \n",
       "            </div>\n",
       "        </div>\n",
       "        "
      ]
     },
     "metadata": {},
     "output_type": "display_data"
    }
   ],
   "source": [
    "import databricks.automl\n",
    "from datetime import datetime\n",
    "\n",
    "summary = databricks.automl.regress(\n",
    "  dataset=df,\n",
    "  target_col='median_house_value',\n",
    "  primary_metric='rmse',  \n",
    "  timeout_minutes=5,\n",
    "  experiment_name=f\"Housing_AutoML_{datetime.now().strftime('%Y%m%d_%H%M%S')}\",\n",
    "  \n",
    ")"
   ]
  },
  {
   "cell_type": "code",
   "execution_count": 0,
   "metadata": {
    "application/vnd.databricks.v1+cell": {
     "cellMetadata": {},
     "inputWidgets": {},
     "nuid": "2264d641-9f93-4abd-b550-3978261f1c00",
     "showTitle": false,
     "tableResultSettingsMap": {},
     "title": ""
    }
   },
   "outputs": [
    {
     "output_type": "stream",
     "name": "stdout",
     "output_type": "stream",
     "text": [
      "Best Run ID: bc76004ba5184fd195ea34cc9fdc50e2\n"
     ]
    },
    {
     "output_type": "display_data",
     "data": {
      "application/vnd.jupyter.widget-view+json": {
       "model_id": "caa2657e06a34b44b71304412b8b7275",
       "version_major": 2,
       "version_minor": 0
      },
      "text/plain": [
       "Downloading artifacts:   0%|          | 0/11 [00:00<?, ?it/s]"
      ]
     },
     "metadata": {},
     "output_type": "display_data"
    },
    {
     "output_type": "display_data",
     "data": {
      "application/vnd.jupyter.widget-view+json": {
       "model_id": "b3467f1d179645e7b48ef03df365596a",
       "version_major": 2,
       "version_minor": 0
      },
      "text/plain": [
       "Downloading artifacts:   0%|          | 0/11 [00:00<?, ?it/s]"
      ]
     },
     "metadata": {},
     "output_type": "display_data"
    }
   ],
   "source": [
    "from mlflow.tracking import MlflowClient\n",
    "import mlflow\n",
    "import mlflow.sklearn\n",
    "\n",
    "\n",
    "# fetch experiment ID from autoML summary\n",
    "experiment_id = summary.experiment.experiment_id\n",
    "\n",
    "# initialize mlFlow client\n",
    "client = MlflowClient()\n",
    "\n",
    "# search for best run\n",
    "runs = client.search_runs(\n",
    "    experiment_ids=[experiment_id],\n",
    "    order_by=['metrics.val_root_mean_squared_error'],\n",
    "    max_results=1\n",
    ")\n",
    "\n",
    "if runs:\n",
    "    best_run = runs[0]\n",
    "    # Print the details of the best run\n",
    "    print(f'Best Run ID: {best_run.info.run_id}')\n",
    "\n",
    "\n",
    "    # Load the best model\n",
    "    model_uri = f'runs:/{best_run.info.run_id}/model'\n",
    "    best_model = mlflow.pyfunc.load_model(model_uri)\n",
    "\n",
    "else:\n",
    "    print('no runs found')"
   ]
  },
  {
   "cell_type": "code",
   "execution_count": 0,
   "metadata": {
    "application/vnd.databricks.v1+cell": {
     "cellMetadata": {},
     "inputWidgets": {},
     "nuid": "5601dd16-2720-4e18-b1e8-97fa603f5468",
     "showTitle": false,
     "tableResultSettingsMap": {},
     "title": ""
    }
   },
   "outputs": [],
   "source": [
    "# Load and visualize the best model\n",
    "best_model = mlflow.sklearn.load_model(model_uri)\n",
    "best_model"
   ]
  }
 ],
 "metadata": {
  "application/vnd.databricks.v1+notebook": {
   "dashboards": [],
   "environmentMetadata": {
    "base_environment": "",
    "client": "1"
   },
   "language": "python",
   "notebookMetadata": {
    "pythonIndentUnit": 4
   },
   "notebookName": "FinalProject_find_baseline_model",
   "widgets": {}
  },
  "language_info": {
   "name": "python"
  }
 },
 "nbformat": 4,
 "nbformat_minor": 0
}