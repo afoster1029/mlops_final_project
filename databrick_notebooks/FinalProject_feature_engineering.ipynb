{
 "cells": [
  {
   "cell_type": "markdown",
   "metadata": {
    "application/vnd.databricks.v1+cell": {
     "cellMetadata": {
      "byteLimit": 2048000,
      "rowLimit": 10000
     },
     "inputWidgets": {},
     "nuid": "685005c7-60c0-4641-a173-580d6f7188f2",
     "showTitle": false,
     "tableResultSettingsMap": {},
     "title": ""
    }
   },
   "source": [
    "### Data Processing (Cleanup + Feature Engineering)"
   ]
  },
  {
   "cell_type": "code",
   "execution_count": 0,
   "metadata": {
    "application/vnd.databricks.v1+cell": {
     "cellMetadata": {
      "byteLimit": 2048000,
      "rowLimit": 10000
     },
     "inputWidgets": {},
     "nuid": "5f89fe03-e5ad-4519-a666-0d7438a3ba55",
     "showTitle": false,
     "tableResultSettingsMap": {},
     "title": ""
    }
   },
   "outputs": [],
   "source": [
    "import pandas as pd\n",
    "\n",
    "# load the dataset saved in prior notebook\n",
    "df = pd.read_parquet('/dbfs/tmp/housing_data.parquet')"
   ]
  },
  {
   "cell_type": "code",
   "execution_count": 0,
   "metadata": {
    "application/vnd.databricks.v1+cell": {
     "cellMetadata": {
      "byteLimit": 2048000,
      "rowLimit": 10000
     },
     "inputWidgets": {},
     "nuid": "93011bbd-5dc0-475e-81d7-b9d391297fe3",
     "showTitle": false,
     "tableResultSettingsMap": {},
     "title": ""
    }
   },
   "outputs": [],
   "source": [
    "from sklearn.impute import SimpleImputer \n",
    "from sklearn.preprocessing import OneHotEncoder, StandardScaler\n",
    "from sklearn.compose import ColumnTransformer\n",
    "\n",
    "# define processing for columns based on type\n",
    "numerical_features = df.select_dtypes(include=['int64','float64']).columns\n",
    "numerical_transformer = SimpleImputer(strategy='mean')\n",
    "categorical_features = df.select_dtypes(include=['object']).columns\n",
    "categorical_transformer = OneHotEncoder(handle_unknown='ignore')\n",
    "\n",
    "# combine processing steps \n",
    "preprocessor = ColumnTransformer(\n",
    "    transformers=[\n",
    "        ('num', numerical_transformer, numerical_features),\n",
    "        ('cat', categorical_transformer, categorical_features)\n",
    "    ]\n",
    ")\n",
    "\n",
    "# apply processing steps \n",
    "df_processed = preprocessor.fit_transform(df)\n",
    "\n",
    "# convert to DataFrame \n",
    "df_processed = pd.DataFrame(\n",
    "    df_processed,\n",
    "    columns=numerical_features.tolist()+preprocessor.named_transformers_['cat'].get_feature_names_out(categorical_features).tolist()\n",
    ")\n",
    "\n",
    "# create new features\n",
    "df_processed['rooms_per_household'] = df_processed['total_rooms'] / df_processed['households']\n",
    "df_processed['bedrooms_per_room'] = df_processed['total_bedrooms'] / df_processed['total_rooms']\n",
    "df_processed['population_per_household'] = df_processed['population'] / df_processed['households']\n",
    "\n",
    "# clean up column name for subsequent processing steps\n",
    "df_processed = df_processed.rename(columns={'ocean_proximity_<1H OCEAN':'ocean_proximity_1H OCEAN'})"
   ]
  },
  {
   "cell_type": "markdown",
   "metadata": {
    "application/vnd.databricks.v1+cell": {
     "cellMetadata": {
      "byteLimit": 2048000,
      "rowLimit": 10000
     },
     "inputWidgets": {},
     "nuid": "0b336e7b-e922-498f-8a60-ae8c7707cb81",
     "showTitle": false,
     "tableResultSettingsMap": {},
     "title": ""
    }
   },
   "source": [
    "### Split Data"
   ]
  },
  {
   "cell_type": "code",
   "execution_count": 0,
   "metadata": {
    "application/vnd.databricks.v1+cell": {
     "cellMetadata": {
      "byteLimit": 2048000,
      "rowLimit": 10000
     },
     "inputWidgets": {},
     "nuid": "c42f193f-02a5-44ce-afc0-3a5bcfe144b1",
     "showTitle": false,
     "tableResultSettingsMap": {},
     "title": ""
    }
   },
   "outputs": [],
   "source": [
    "from sklearn.model_selection import train_test_split\n",
    "\n",
    "# split data into train/val/test\n",
    "X = df_processed.drop(columns=['median_house_value'])\n",
    "y = df_processed['median_house_value']\n",
    "X_train, X_temp, y_train, y_temp = train_test_split(X, y, test_size=0.2, random_state=42)\n",
    "X_val, X_test, y_val, y_test = train_test_split(X_temp, y_temp, test_size=0.5, random_state=42)"
   ]
  },
  {
   "cell_type": "code",
   "execution_count": 0,
   "metadata": {
    "application/vnd.databricks.v1+cell": {
     "cellMetadata": {
      "byteLimit": 2048000,
      "rowLimit": 10000
     },
     "inputWidgets": {},
     "nuid": "72f4371e-97e6-47b7-9667-290e9d36a4df",
     "showTitle": false,
     "tableResultSettingsMap": {},
     "title": ""
    }
   },
   "outputs": [],
   "source": [
    "# save to parquet files so we can access objects in other tasks\n",
    "X_train.to_parquet('/dbfs/tmp/X_train.parquet')\n",
    "X_val.to_parquet('/dbfs/tmp/X_val.parquet')\n",
    "X_test.to_parquet('/dbfs/tmp/X_test.parquet')\n",
    "y_train.to_frame().to_parquet('/dbfs/tmp/y_train.parquet') # object must be a dataframe to use to_parquet()\n",
    "y_val.to_frame().to_parquet('/dbfs/tmp/y_val.parquet') # object must be a dataframe to use to_parquet()\n",
    "y_test.to_frame().to_parquet('/dbfs/tmp/y_test.parquet') # object must be a dataframe to use to_parquet()"
   ]
  }
 ],
 "metadata": {
  "application/vnd.databricks.v1+notebook": {
   "dashboards": [],
   "environmentMetadata": {
    "base_environment": "",
    "client": "1"
   },
   "language": "python",
   "notebookMetadata": {
    "pythonIndentUnit": 4
   },
   "notebookName": "FinalProject_feature_engineering",
   "widgets": {}
  },
  "language_info": {
   "name": "python"
  }
 },
 "nbformat": 4,
 "nbformat_minor": 0
}